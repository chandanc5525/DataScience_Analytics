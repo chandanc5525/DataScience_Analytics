{
 "cells": [
  {
   "cell_type": "code",
   "execution_count": 1,
   "id": "64616391",
   "metadata": {},
   "outputs": [
    {
     "name": "stdout",
     "output_type": "stream",
     "text": [
      "<class 'int'>\n",
      "<class 'float'>\n",
      "<class 'complex'>\n"
     ]
    }
   ],
   "source": [
    "# Single Line Comment \n",
    "# Data Types in Python Programming\n",
    "''' \n",
    "1. Int \n",
    "2. Float\n",
    "3. Complex\n",
    "4. String\n",
    "5. Boolean\n",
    "6. list\n",
    "7. tuple\n",
    "8. set\n",
    "9. dict\n",
    "10. class : Custom Datatype\n",
    "'''\n",
    "\n",
    "number = 100\n",
    "number1 = 23.456\n",
    "number2 = 2 + 3j\n",
    "\n",
    "\n",
    "print(type(number))  # This will gives the Datatype of number\n",
    "print(type(number1))\n",
    "print(type(number2))"
   ]
  },
  {
   "cell_type": "code",
   "execution_count": 2,
   "id": "ac1e6166",
   "metadata": {},
   "outputs": [],
   "source": [
    "# Variable Definition\n",
    "\n",
    "x = 10  # Single Variable Assignment \n",
    "x,y = 1000,2000   \n",
    "x,y,z,_ = 1,2,3,4  # Multiple Variable Assignment\n",
    "_,a,b,c = 10,20,30,40"
   ]
  },
  {
   "cell_type": "code",
   "execution_count": 3,
   "id": "01bd0701",
   "metadata": {},
   "outputs": [
    {
     "name": "stdout",
     "output_type": "stream",
     "text": [
      "100100\n"
     ]
    }
   ],
   "source": [
    "num = '100'  # String\n",
    "\n",
    "num1 = 2\n",
    "\n",
    "num2 = num * num1\n",
    "print(num2)"
   ]
  },
  {
   "cell_type": "code",
   "execution_count": 4,
   "id": "c6163414",
   "metadata": {},
   "outputs": [
    {
     "name": "stdout",
     "output_type": "stream",
     "text": [
      "20\n"
     ]
    }
   ],
   "source": [
    "number = 10\n",
    "Number = 20\n",
    "\n",
    "print(Number)"
   ]
  },
  {
   "cell_type": "code",
   "execution_count": 5,
   "id": "befcfe9d",
   "metadata": {},
   "outputs": [],
   "source": [
    "Integer_Number = 100\n",
    "# Rules for Variable Definition\n",
    "''' \n",
    "1. Special characters are not allowed at the prefix of variable.\n",
    "Example: 123Num : Not Allowed X\n",
    "2. The Variable Definition should not contain any special character or space\n",
    "Example: Primary Number : Not Allowed X\n",
    "3. _num = 100\n",
    "\n",
    "'''\n",
    "_num = 100"
   ]
  },
  {
   "cell_type": "code",
   "execution_count": 6,
   "id": "2f940554",
   "metadata": {},
   "outputs": [
    {
     "name": "stdout",
     "output_type": "stream",
     "text": [
      "Hii\n",
      "300\n"
     ]
    }
   ],
   "source": [
    "# print Function:\n",
    "\n",
    "print('Hii')\n",
    "print(100+200)"
   ]
  },
  {
   "cell_type": "code",
   "execution_count": 7,
   "id": "c744ea48",
   "metadata": {},
   "outputs": [
    {
     "name": "stdout",
     "output_type": "stream",
     "text": [
      "The Output of Two Mathmatical Number Operation  300.0\n",
      "The Output of Two Mathmatical Number Operation 300.0\n",
      "The Output of Two Mathmatical Number Operation 300.0\n",
      "The output of Two Numbers 100.0 and 200.0 is 300.0\n"
     ]
    }
   ],
   "source": [
    "# Example: Simple Calculator\n",
    "\n",
    "''' \n",
    "Logic:\n",
    "\n",
    "Step1: Ask user to enter the two values\n",
    "Step2: Perform Mathmatical Operation\n",
    "Step3: Print the Output\n",
    "'''\n",
    "num1 = float(input('Enter the First Value: '))   # Type casted to float\n",
    "num2 = float(input('Enter the Second Value: '))  # Type casted to float\n",
    "\n",
    "num3 = num1 + num2\n",
    "\n",
    "print('The Output of Two Mathmatical Number Operation ',num3)\n",
    "print(f'The Output of Two Mathmatical Number Operation {num3}')  # f-string method\n",
    "print(f'The Output of Two Mathmatical Number Operation {num3}'.format(num3))\n",
    "\n",
    "print(f'The output of Two Numbers {num1} and {num2} is {num3}')\n"
   ]
  },
  {
   "cell_type": "code",
   "execution_count": 8,
   "id": "f87df80c",
   "metadata": {},
   "outputs": [
    {
     "data": {
      "text/plain": [
       "' \\n1. Addition (+)\\n2. Substraction (-)\\n3. Multiplication (*)\\n4. Division (/ or //)\\n5. Modulo (%)\\n'"
      ]
     },
     "execution_count": 8,
     "metadata": {},
     "output_type": "execute_result"
    }
   ],
   "source": [
    "# Operators in Python Programming\n",
    "''' \n",
    "1. Addition (+)\n",
    "2. Substraction (-)\n",
    "3. Multiplication (*)\n",
    "4. Division (/ or //)\n",
    "5. Modulo (%)\n",
    "'''"
   ]
  },
  {
   "cell_type": "code",
   "execution_count": 9,
   "id": "a772608e",
   "metadata": {},
   "outputs": [
    {
     "data": {
      "text/plain": [
       "(35, 20, 40, 20.0, 20, 0)"
      ]
     },
     "execution_count": 9,
     "metadata": {},
     "output_type": "execute_result"
    }
   ],
   "source": [
    "12 + 23, 40-20, 20*2,40/2,40//2,40%2"
   ]
  },
  {
   "cell_type": "code",
   "execution_count": 10,
   "id": "8416cea4",
   "metadata": {},
   "outputs": [
    {
     "name": "stdout",
     "output_type": "stream",
     "text": [
      "Hello Welcome to the World of Python Programming.\n"
     ]
    }
   ],
   "source": [
    "# Concept of Indexing and Slicing \n",
    "\n",
    "str = 'Hello Welcome to the World of Python Programming.'\n",
    "\n",
    "''' \n",
    "Note:\n",
    "string indexing : string[start:stop:step]\n",
    "'''\n",
    "#ello Welc\n",
    "print(str[::])"
   ]
  },
  {
   "cell_type": "code",
   "execution_count": 11,
   "id": "df6b2c33",
   "metadata": {},
   "outputs": [
    {
     "name": "stdout",
     "output_type": "stream",
     "text": [
      "I SAGetCut\n"
     ]
    }
   ],
   "source": [
    "str = 'INDIA IS A Great Country'\n",
    "print(str[3:-2:2])"
   ]
  },
  {
   "cell_type": "code",
   "execution_count": 12,
   "id": "93e916e1",
   "metadata": {},
   "outputs": [
    {
     "name": "stdout",
     "output_type": "stream",
     "text": [
      "I am True\n"
     ]
    }
   ],
   "source": [
    "# If Else statement\n",
    "\n",
    "if True:\n",
    "    print(\"I am True\")\n",
    "    \n",
    "if False:\n",
    "    print(\"I am False\")"
   ]
  },
  {
   "cell_type": "code",
   "execution_count": 13,
   "metadata": {},
   "outputs": [
    {
     "name": "stdout",
     "output_type": "stream",
     "text": [
      "Not Satisfy the criteria\n"
     ]
    }
   ],
   "source": [
    "''' \n",
    "Logic:\n",
    "\n",
    "if <Condition>:\n",
    "   print(\"Output1\")\n",
    "else: \n",
    "   print(\"Output2\")\n",
    "\n",
    "'''\n",
    "\n",
    "num = 100 \n",
    "\n",
    "if num > 100:\n",
    "    print('The Number is Satisfy criteria')\n",
    "else:\n",
    "    print('Not Satisfy the criteria')"
   ]
  },
  {
   "cell_type": "code",
   "execution_count": 14,
   "metadata": {},
   "outputs": [],
   "source": [
    "# Guessing the Number Game \n",
    "''' \n",
    "Logic:\n",
    "Step1: Enter the Number \n",
    "Step2: Write Logic Code to Guess the Correct Number\n",
    "Step3: Output  \n",
    "'''\n",
    "number = float(input('Enter the Number Between 1 to 3:' ))\n",
    "\n",
    "if number == 1:\n",
    "    print('The Number is 1')\n",
    "if number == 2:\n",
    "    print('The Number is 2')\n",
    "if number == 3:\n",
    "    print('The Number is 3')"
   ]
  },
  {
   "cell_type": "code",
   "execution_count": 15,
   "metadata": {},
   "outputs": [
    {
     "name": "stdout",
     "output_type": "stream",
     "text": [
      "The number is 2\n"
     ]
    }
   ],
   "source": [
    "number  = float(input())\n",
    "if number > 2: \n",
    "    print('The Enter number is Higher Value')\n",
    "if number < 2:\n",
    "    print('The Number is Lower Value')\n",
    "else:\n",
    "    print('The number is 2')"
   ]
  },
  {
   "cell_type": "code",
   "execution_count": 16,
   "id": "cd123f0a",
   "metadata": {},
   "outputs": [
    {
     "name": "stdout",
     "output_type": "stream",
     "text": [
      "Very Good\n"
     ]
    }
   ],
   "source": [
    "if True:\n",
    "    if True:\n",
    "        if True:\n",
    "            print('Very Good')"
   ]
  },
  {
   "cell_type": "code",
   "execution_count": 17,
   "id": "613def2a",
   "metadata": {},
   "outputs": [
    {
     "name": "stdout",
     "output_type": "stream",
     "text": [
      "The given string is Palindrom\n"
     ]
    }
   ],
   "source": [
    "# Example: To Check whether the given string is Palindrom or Not\n",
    "''' \n",
    "Step1: Ask user to enter the string\n",
    "step2: Reverse the string \n",
    "step3: Use if else logic to print the output\n",
    "'''\n",
    "text1 = input('Enter the string: ')   # Assignment Operator\n",
    "text2 = text1[::-1]\n",
    "\n",
    "if text1 == text2:     # This is Comparison Operator\n",
    "    print('The given string is Palindrom')\n",
    "else:\n",
    "    print('Not a Palindrom')"
   ]
  },
  {
   "cell_type": "code",
   "execution_count": 18,
   "id": "bdcd174b",
   "metadata": {},
   "outputs": [
    {
     "data": {
      "text/plain": [
       "5.0"
      ]
     },
     "execution_count": 18,
     "metadata": {},
     "output_type": "execute_result"
    }
   ],
   "source": [
    "8//5\n",
    "5**2\n",
    "25**0.5\n"
   ]
  },
  {
   "cell_type": "code",
   "execution_count": 19,
   "id": "8240624d",
   "metadata": {},
   "outputs": [
    {
     "name": "stdout",
     "output_type": "stream",
     "text": [
      "The Volume of Cylinder is 9.426300000000001 mm^3\n"
     ]
    }
   ],
   "source": [
    "# Example: Write a Program to Print Volume of Cylinder\n",
    "'''\n",
    "Volume = Area * Height\n",
    "Step1: Ask user to enter the Diameter of Cylinder\n",
    "step2: Ask user to enter the Height of cylinder\n",
    "step3: Volume = Area * height  \n",
    "step4: print the desired output\n",
    "'''\n",
    "PI = 3.1421\n",
    "Diameter = float(input(\"Enter the Diameter of Cylinder: \"))\n",
    "Height = float(input(\"Enter the Height of Cylinder: \"))\n",
    "\n",
    "Volume = (PI/4)*(Diameter**2)* Height\n",
    "\n",
    "print(f'The Volume of Cylinder is {Volume} mm^3')            "
   ]
  },
  {
   "cell_type": "code",
   "execution_count": 20,
   "id": "9776ca24",
   "metadata": {},
   "outputs": [
    {
     "name": "stdout",
     "output_type": "stream",
     "text": [
      "Average\n"
     ]
    }
   ],
   "source": [
    "# Example:\n",
    "''' \n",
    "step1: Ask user to enter the Marks\n",
    "step2: Logic: \n",
    "       Marks > 90: Execellent\n",
    "       90<Marks>60 : Bright\n",
    "       Marks less than 60: Moderate \n",
    "step3: print the output\n",
    "'''\n",
    "Marks = float(input(\"Enter the Marks: \"))\n",
    "\n",
    "if Marks>=90:\n",
    "    print('Excellent')\n",
    "elif Marks < 90 and Marks > 60:\n",
    "    print(\"Bright\")\n",
    "else:\n",
    "    print(\"Average\")"
   ]
  },
  {
   "cell_type": "code",
   "execution_count": 21,
   "id": "ca2b672e",
   "metadata": {},
   "outputs": [
    {
     "name": "stdout",
     "output_type": "stream",
     "text": [
      "0\n",
      "1\n",
      "2\n",
      "3\n",
      "4\n",
      "5\n",
      "6\n",
      "7\n",
      "8\n",
      "9\n"
     ]
    }
   ],
   "source": [
    "# For loop\n",
    "# range(start,stop,step)\n",
    "for i in range(0,10):\n",
    "    print(i)"
   ]
  },
  {
   "cell_type": "code",
   "execution_count": 22,
   "id": "ce8247ac",
   "metadata": {},
   "outputs": [
    {
     "name": "stdout",
     "output_type": "stream",
     "text": [
      "0\n",
      "2\n",
      "4\n",
      "6\n",
      "8\n"
     ]
    }
   ],
   "source": [
    "for i in range(0,10,2):\n",
    "    print(i)"
   ]
  },
  {
   "cell_type": "code",
   "execution_count": 23,
   "id": "7254d632",
   "metadata": {},
   "outputs": [
    {
     "name": "stdout",
     "output_type": "stream",
     "text": [
      "0 1 2 3 4 5 6 7 8 9 "
     ]
    }
   ],
   "source": [
    "for i in range(0,10):\n",
    "    print(i,end = ' ')"
   ]
  },
  {
   "cell_type": "code",
   "execution_count": 24,
   "id": "cb31a864",
   "metadata": {},
   "outputs": [
    {
     "name": "stdout",
     "output_type": "stream",
     "text": [
      "\n",
      "*\n",
      "**\n",
      "***\n",
      "****\n",
      "*****\n",
      "******\n",
      "*******\n",
      "********\n",
      "*********\n"
     ]
    }
   ],
   "source": [
    "for i in range(10):\n",
    "    print('*'*i)"
   ]
  },
  {
   "cell_type": "code",
   "execution_count": 25,
   "id": "347eb953",
   "metadata": {},
   "outputs": [
    {
     "name": "stdout",
     "output_type": "stream",
     "text": [
      "0\n",
      "1\n",
      "2\n",
      "3\n",
      "4\n",
      "5\n",
      "6\n"
     ]
    }
   ],
   "source": [
    "for i in range(0,10):\n",
    "    print(i)\n",
    "    if i == 6:\n",
    "        break"
   ]
  },
  {
   "cell_type": "code",
   "execution_count": 26,
   "id": "22556ca9",
   "metadata": {},
   "outputs": [
    {
     "name": "stdout",
     "output_type": "stream",
     "text": [
      "0\n",
      "1\n",
      "2\n",
      "3\n",
      "4\n",
      "5\n",
      "6\n",
      "7\n",
      "8\n",
      "9\n"
     ]
    }
   ],
   "source": [
    "for i in range(0,10):\n",
    "    print(i)\n",
    "    if i == 6:\n",
    "        continue"
   ]
  },
  {
   "cell_type": "code",
   "execution_count": 27,
   "id": "f11707db",
   "metadata": {},
   "outputs": [
    {
     "name": "stdout",
     "output_type": "stream",
     "text": [
      "0\n",
      "1\n",
      "2\n",
      "3\n",
      "4\n",
      "5\n",
      "6\n",
      "7\n",
      "8\n",
      "9\n"
     ]
    }
   ],
   "source": [
    "for i in range(0,10):\n",
    "    print(i)\n",
    "    if i == 6:\n",
    "        pass"
   ]
  },
  {
   "cell_type": "code",
   "execution_count": 28,
   "id": "71b70c8e",
   "metadata": {},
   "outputs": [],
   "source": [
    "# Define function : test\n",
    "\n",
    "def test():   # Defining a function: test\n",
    "    pass\n",
    "\n",
    "test()        # Calling a function : test"
   ]
  },
  {
   "cell_type": "code",
   "execution_count": 29,
   "id": "8b87c1d6",
   "metadata": {},
   "outputs": [
    {
     "name": "stdout",
     "output_type": "stream",
     "text": [
      "The given is not a Palindrom\n"
     ]
    }
   ],
   "source": [
    "# Example:\n",
    "# Palindrom function definition\n",
    "def Palindrom():\n",
    "    text1 = input('Enter the string: ')\n",
    "    text2 = text1[::-1]\n",
    "\n",
    "    if text1 == text2:\n",
    "        print(\"The given string is a Palindrom\")\n",
    "    else:\n",
    "        print(\"The given is not a Palindrom\")\n",
    "        \n",
    "Palindrom()  # Function Calling"
   ]
  },
  {
   "cell_type": "code",
   "execution_count": 30,
   "id": "4dbfec68",
   "metadata": {},
   "outputs": [
    {
     "name": "stdout",
     "output_type": "stream",
     "text": [
      "The Answer is 300\n"
     ]
    }
   ],
   "source": [
    "# Example\n",
    "# Definining a function: Compute\n",
    "def Compute(num1,num2):\n",
    "    num3 = num1 + num2 \n",
    "    return num3\n",
    "\n",
    "ans = Compute(100,200)  # Function Calling\n",
    "\n",
    "print(f'The Answer is {ans}')"
   ]
  },
  {
   "cell_type": "code",
   "execution_count": 31,
   "id": "3dc141a9",
   "metadata": {},
   "outputs": [
    {
     "name": "stdout",
     "output_type": "stream",
     "text": [
      "[1, 2, 3, 100.2, 3.1421, (3+4j), 'Hello World', True, [1, 2, 3], 100]\n",
      "[0, 1, 2, 3, 100.2, 3.1421, (3+4j), 'Hello World', True, [1, 2, 3], 100]\n"
     ]
    }
   ],
   "source": [
    "# Data Structures of Python Programming\n",
    "''' \n",
    "1. List\n",
    "2. Tuple\n",
    "3. Dictionary\n",
    "4. Sets\n",
    "'''\n",
    "\n",
    "# List\n",
    "\n",
    "a = [1,2,3,100.2000,3.1421,3+4j,'Hello World',True,[1,2,3]]\n",
    "a.append(100)\n",
    "print(a)\n",
    "a.insert(0,0)\n",
    "print(a)\n"
   ]
  },
  {
   "cell_type": "code",
   "execution_count": 32,
   "id": "b8738892",
   "metadata": {},
   "outputs": [
    {
     "name": "stdout",
     "output_type": "stream",
     "text": [
      "[0, 1, 2, 3, 100.2, 3.1421, (3+4j), 'Hello World', True, [1, 2, 3]]\n"
     ]
    }
   ],
   "source": [
    "a.pop()\n",
    "print(a)"
   ]
  },
  {
   "cell_type": "code",
   "execution_count": 33,
   "id": "094f1d11",
   "metadata": {},
   "outputs": [
    {
     "name": "stdout",
     "output_type": "stream",
     "text": [
      "[1, 2, 3, 100.2, 3.1421, (3+4j), 'Hello World', True, [1, 2, 3]]\n"
     ]
    }
   ],
   "source": [
    "a.remove(0)\n",
    "print(a)"
   ]
  },
  {
   "cell_type": "code",
   "execution_count": null,
   "id": "9a2c5291",
   "metadata": {},
   "outputs": [
    {
     "name": "stdout",
     "output_type": "stream",
     "text": [
      "2\n",
      "<class 'list'>\n"
     ]
    }
   ],
   "source": [
    "''' \n",
    "Any function defined inside a class called as Method\n",
    "Example: In a List a = [100,200,300]\n",
    "a.append(400)\n",
    "Here, append() is function, but this function is defined inside a class list so it is called Method\n",
    "'''\n",
    "\n",
    "print(a.count(1))\n",
    "print(type(a))"
   ]
  },
  {
   "cell_type": "code",
   "execution_count": 38,
   "id": "601029b1",
   "metadata": {},
   "outputs": [
    {
     "name": "stdout",
     "output_type": "stream",
     "text": [
      "[1000, 2000, 3000, 5000, 6000]\n"
     ]
    }
   ],
   "source": [
    "lst = [1000,5000,6000,2000,3000]\n",
    "lst.sort()\n",
    "print(lst)"
   ]
  },
  {
   "cell_type": "code",
   "execution_count": 39,
   "id": "b37f4388",
   "metadata": {},
   "outputs": [
    {
     "name": "stdout",
     "output_type": "stream",
     "text": [
      "[6000, 5000, 3000, 2000, 1000]\n"
     ]
    }
   ],
   "source": [
    "lst.reverse()\n",
    "print(lst)"
   ]
  },
  {
   "cell_type": "code",
   "execution_count": 40,
   "id": "c5356a63",
   "metadata": {},
   "outputs": [
    {
     "name": "stdout",
     "output_type": "stream",
     "text": [
      "300\n"
     ]
    }
   ],
   "source": [
    "lst = [100,200,300]\n",
    "print(lst[2])"
   ]
  },
  {
   "cell_type": "code",
   "execution_count": 48,
   "id": "b829d370",
   "metadata": {},
   "outputs": [
    {
     "name": "stdout",
     "output_type": "stream",
     "text": [
      "3000\n"
     ]
    }
   ],
   "source": [
    "lst = [100,200,[3000],400]\n",
    "print(lst[2][0])"
   ]
  },
  {
   "cell_type": "code",
   "execution_count": 57,
   "id": "9aa4c58a",
   "metadata": {},
   "outputs": [
    {
     "name": "stdout",
     "output_type": "stream",
     "text": [
      "5\n",
      "1000\n"
     ]
    }
   ],
   "source": [
    "lst = [1,[2,3,4,5,[6,7,[10,[1000],110,],200,300],10],1]\n",
    "print(lst[1][3])\n",
    "print(lst[1][4][2][1][0])"
   ]
  },
  {
   "cell_type": "code",
   "execution_count": 69,
   "id": "e581dd50",
   "metadata": {},
   "outputs": [
    {
     "name": "stdout",
     "output_type": "stream",
     "text": [
      "300\n",
      "300\n"
     ]
    }
   ],
   "source": [
    "print(lst[-2][-2][-1])\n",
    "print(lst[1][4][4])"
   ]
  },
  {
   "cell_type": "code",
   "execution_count": 78,
   "id": "93f9eb55",
   "metadata": {},
   "outputs": [
    {
     "name": "stdout",
     "output_type": "stream",
     "text": [
      "8\n",
      "[4, 5, [6], [7]]\n",
      "8\n"
     ]
    }
   ],
   "source": [
    "lst = [100,200,300,[1,2,[3,4,5,[6],[7],[8,[9],1],1],1],1]\n",
    "print(lst[3][2][5][0])\n",
    "# 4,5,[6],[7]\n",
    "print(lst[3][2][1:5])\n",
    "print(lst[-2][-2][-2][-3])"
   ]
  },
  {
   "cell_type": "code",
   "execution_count": 79,
   "id": "1ce3314e",
   "metadata": {},
   "outputs": [
    {
     "data": {
      "text/plain": [
       "1"
      ]
     },
     "execution_count": 79,
     "metadata": {},
     "output_type": "execute_result"
    }
   ],
   "source": [
    "# Tuple\n",
    "\n",
    "b = (100,200,3.1421,True,False,'Hello World',(1,2,3,4))\n",
    "b.count(100)"
   ]
  },
  {
   "cell_type": "code",
   "execution_count": 80,
   "id": "975db3ab",
   "metadata": {},
   "outputs": [
    {
     "data": {
      "text/plain": [
       "1"
      ]
     },
     "execution_count": 80,
     "metadata": {},
     "output_type": "execute_result"
    }
   ],
   "source": [
    "b.index(200)"
   ]
  },
  {
   "cell_type": "code",
   "execution_count": 88,
   "id": "cd52544d",
   "metadata": {},
   "outputs": [
    {
     "name": "stdout",
     "output_type": "stream",
     "text": [
      "even numbers [10, 30]\n",
      "odd numbers [21, 41, 51]\n"
     ]
    }
   ],
   "source": [
    "# Example\n",
    "lst = [10,21,30,41,51]\n",
    "even = []\n",
    "odd = []\n",
    "\n",
    "for i in lst:\n",
    "    if i%2 == 0:  \n",
    "        even.append(i)\n",
    "    else:\n",
    "        odd.append(i)\n",
    "print('even numbers',even)\n",
    "print('odd numbers',odd)"
   ]
  },
  {
   "cell_type": "code",
   "execution_count": 5,
   "id": "37b7f1f0",
   "metadata": {},
   "outputs": [
    {
     "name": "stdout",
     "output_type": "stream",
     "text": [
      "(50, 60)\n"
     ]
    }
   ],
   "source": [
    "tup = (1,2,3,[4,5,6,7],[10,20,(30,40,(50,60,(70)))])\n",
    "\n",
    "print(tup[4][2][2][0:2])"
   ]
  },
  {
   "cell_type": "code",
   "execution_count": 8,
   "id": "2f0d274e",
   "metadata": {},
   "outputs": [
    {
     "name": "stdout",
     "output_type": "stream",
     "text": [
      "<class 'tuple'>\n",
      "<class 'list'>\n",
      "[10, 20, 30, 40, 50]\n"
     ]
    }
   ],
   "source": [
    "# Example\n",
    "\n",
    "tup = (10,20,30,40)\n",
    "print(type(tup))\n",
    "\n",
    "# Typecast\n",
    "tup = list(tup)\n",
    "\n",
    "print(type(tup))\n",
    "\n",
    "tup.append(50)\n",
    "\n",
    "print(tup)"
   ]
  },
  {
   "cell_type": "code",
   "execution_count": null,
   "id": "3ceec75d",
   "metadata": {},
   "outputs": [
    {
     "name": "stdout",
     "output_type": "stream",
     "text": [
      "dict_keys(['1'])\n",
      "dict_values([10])\n"
     ]
    }
   ],
   "source": [
    "# Dictionary\n",
    "\n",
    "# dict = {'Key1':value}\n",
    "\n",
    "d = {'1':10}  # 1: Key and 10 : Value \n",
    "print(d.keys())\n",
    "print(d.values())"
   ]
  },
  {
   "cell_type": "code",
   "execution_count": 20,
   "id": "5a198072",
   "metadata": {},
   "outputs": [
    {
     "name": "stdout",
     "output_type": "stream",
     "text": [
      "1000\n"
     ]
    }
   ],
   "source": [
    "d = {'India':1000,'USA':2000,'UK':3000}\n",
    "print(d['India'])"
   ]
  },
  {
   "cell_type": "code",
   "execution_count": 23,
   "id": "e4c0acd1",
   "metadata": {},
   "outputs": [
    {
     "name": "stdout",
     "output_type": "stream",
     "text": [
      "2000\n"
     ]
    }
   ],
   "source": [
    "d = {'India':[1000,2000,3000,4000],'USA':2000,'UK':3000}\n",
    "print(d['India'][1])"
   ]
  },
  {
   "cell_type": "code",
   "execution_count": 26,
   "id": "9b700971",
   "metadata": {},
   "outputs": [
    {
     "name": "stdout",
     "output_type": "stream",
     "text": [
      "5\n"
     ]
    }
   ],
   "source": [
    "d = {'India':[1,2,3,[4,[5]]],'USA':[100,200,300]}\n",
    "print(d['India'][3][1][0])"
   ]
  },
  {
   "cell_type": "code",
   "execution_count": 27,
   "id": "8134e6ed",
   "metadata": {},
   "outputs": [
    {
     "data": {
      "text/plain": [
       "{'USA': 1000, 'India': 2000}"
      ]
     },
     "execution_count": 27,
     "metadata": {},
     "output_type": "execute_result"
    }
   ],
   "source": [
    "# Example: Type cast 'd' to Dictionary\n",
    "d = [('USA',1000),('India',2000)]\n",
    "d = dict(d)\n",
    "d"
   ]
  },
  {
   "cell_type": "code",
   "execution_count": 35,
   "id": "572fc59c",
   "metadata": {},
   "outputs": [],
   "source": [
    "d['UK'] = 3000"
   ]
  },
  {
   "cell_type": "code",
   "execution_count": null,
   "id": "7f416975",
   "metadata": {},
   "outputs": [],
   "source": [
    "del d['UK']   # del is a keyword used for delete the entry "
   ]
  },
  {
   "cell_type": "code",
   "execution_count": 38,
   "id": "a8737bc6",
   "metadata": {},
   "outputs": [
    {
     "data": {
      "text/plain": [
       "{'USA': 1000, 'India': 2000}"
      ]
     },
     "execution_count": 38,
     "metadata": {},
     "output_type": "execute_result"
    }
   ],
   "source": [
    "d"
   ]
  },
  {
   "cell_type": "code",
   "execution_count": null,
   "id": "fa4ccdd9",
   "metadata": {},
   "outputs": [
    {
     "name": "stdout",
     "output_type": "stream",
     "text": [
      "<class 'set'>\n",
      "{40, 10, 20, 30}\n"
     ]
    }
   ],
   "source": [
    "# Set\n",
    "\n",
    "d = {1,2,3,4}\n",
    "print(type(d))\n",
    "\n",
    "d = {10,10,20,30,40}\n",
    "print(d)"
   ]
  },
  {
   "cell_type": "code",
   "execution_count": 47,
   "id": "578f310c",
   "metadata": {},
   "outputs": [
    {
     "name": "stdout",
     "output_type": "stream",
     "text": [
      "{50, 20, 40, 10, 60, 30}\n"
     ]
    }
   ],
   "source": [
    "a = {10,20,30}\n",
    "b = {40,50,60}\n",
    "\n",
    "print(a|b)"
   ]
  },
  {
   "cell_type": "code",
   "execution_count": 53,
   "id": "b2f79e01",
   "metadata": {},
   "outputs": [
    {
     "name": "stdout",
     "output_type": "stream",
     "text": [
      "HELLO WELCOME TO THE WORLD OF PYTHON PROGRAMMING\n",
      "hello welcome to the world of python programming\n",
      "Hello welcome to the world of python programming\n",
      "False\n",
      "False\n",
      "False\n"
     ]
    }
   ],
   "source": [
    "# String\n",
    "\n",
    "str = 'Hello Welcome to the World of Python Programming'\n",
    "\n",
    "print(str.upper())\n",
    "print(str.lower())\n",
    "print(str.capitalize())\n",
    "print(str.isalnum())\n",
    "print(str.isalpha())\n",
    "print(str.islower())"
   ]
  },
  {
   "cell_type": "code",
   "execution_count": 54,
   "id": "3c6877be",
   "metadata": {},
   "outputs": [
    {
     "name": "stdout",
     "output_type": "stream",
     "text": [
      "Hello World\n"
     ]
    }
   ],
   "source": [
    "str = 'Hello'\n",
    "\n",
    "str1 = 'World'\n",
    "\n",
    "print(str + ' '+str1)"
   ]
  },
  {
   "cell_type": "code",
   "execution_count": 59,
   "id": "6c74c2f5",
   "metadata": {},
   "outputs": [
    {
     "name": "stdout",
     "output_type": "stream",
     "text": [
      "Bucket1: ['hello', 'world', 'python', 'programming']\n",
      "Bucket2: ['OF']\n"
     ]
    }
   ],
   "source": [
    "# Example\n",
    "str = ['Hello', 'World','of','Python','Programming']\n",
    "\n",
    "bucket1 = []\n",
    "bucket2 = []\n",
    "\n",
    "for i in str:\n",
    "    if len(i) > 4:\n",
    "        bucket1.append(i.lower())\n",
    "    else :\n",
    "        bucket2.append(i.upper())\n",
    "\n",
    "print('Bucket1:',bucket1)\n",
    "print('Bucket2:',bucket2)\n"
   ]
  },
  {
   "cell_type": "code",
   "execution_count": 60,
   "id": "9f3a3aaa",
   "metadata": {},
   "outputs": [
    {
     "name": "stdout",
     "output_type": "stream",
     "text": [
      "2 4 6 8 10 12 14 16 18 20 "
     ]
    }
   ],
   "source": [
    "# Example\n",
    "# Output: 2 4 6 8 10 .....20\n",
    "\n",
    "num = 2\n",
    "\n",
    "for i in range(1,11):\n",
    "    print(num*i,end = ' ')"
   ]
  },
  {
   "cell_type": "code",
   "execution_count": 69,
   "id": "920ba35a",
   "metadata": {},
   "outputs": [
    {
     "name": "stdout",
     "output_type": "stream",
     "text": [
      "[2, 4, 6, 8, 10, 12, 14, 16, 18, 20]\n"
     ]
    }
   ],
   "source": [
    "num = []\n",
    "\n",
    "def square():\n",
    "    for i in range(1,21):\n",
    "        if i%2 == 0:\n",
    "            num.append(i)\n",
    "    return num\n",
    "\n",
    "num = square()\n",
    "print(num)"
   ]
  }
 ],
 "metadata": {
  "kernelspec": {
   "display_name": "itv",
   "language": "python",
   "name": "python3"
  },
  "language_info": {
   "codemirror_mode": {
    "name": "ipython",
    "version": 3
   },
   "file_extension": ".py",
   "mimetype": "text/x-python",
   "name": "python",
   "nbconvert_exporter": "python",
   "pygments_lexer": "ipython3",
   "version": "3.12.11"
  }
 },
 "nbformat": 4,
 "nbformat_minor": 5
}
