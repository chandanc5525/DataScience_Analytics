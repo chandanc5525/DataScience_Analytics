{
 "cells": [
  {
   "cell_type": "code",
   "execution_count": 4,
   "id": "64616391",
   "metadata": {},
   "outputs": [
    {
     "name": "stdout",
     "output_type": "stream",
     "text": [
      "<class 'int'>\n",
      "<class 'float'>\n",
      "<class 'complex'>\n"
     ]
    }
   ],
   "source": [
    "# Single Line Comment \n",
    "# Data Types in Python Programming\n",
    "''' \n",
    "1. Int \n",
    "2. Float\n",
    "3. Complex\n",
    "4. String\n",
    "5. Boolean\n",
    "6. list\n",
    "7. tuple\n",
    "8. set\n",
    "9. dict\n",
    "10. class : Custom Datatype\n",
    "'''\n",
    "\n",
    "number = 100\n",
    "number1 = 23.456\n",
    "number2 = 2 + 3j\n",
    "\n",
    "\n",
    "print(type(number))  # This will gives the Datatype of number\n",
    "print(type(number1))\n",
    "print(type(number2))"
   ]
  },
  {
   "cell_type": "code",
   "execution_count": 9,
   "id": "ac1e6166",
   "metadata": {},
   "outputs": [],
   "source": [
    "# Variable Definition\n",
    "\n",
    "x = 10  # Single Variable Assignment \n",
    "x,y = 1000,2000   \n",
    "x,y,z,_ = 1,2,3,4  # Multiple Variable Assignment\n",
    "_,a,b,c = 10,20,30,40"
   ]
  },
  {
   "cell_type": "code",
   "execution_count": null,
   "id": "01bd0701",
   "metadata": {},
   "outputs": [
    {
     "name": "stdout",
     "output_type": "stream",
     "text": [
      "100100\n"
     ]
    }
   ],
   "source": [
    "num = '100'  # String\n",
    "\n",
    "num1 = 2\n",
    "\n",
    "num2 = num * num1\n",
    "print(num2)"
   ]
  },
  {
   "cell_type": "code",
   "execution_count": 1,
   "id": "c6163414",
   "metadata": {},
   "outputs": [
    {
     "name": "stdout",
     "output_type": "stream",
     "text": [
      "20\n"
     ]
    }
   ],
   "source": [
    "number = 10\n",
    "Number = 20\n",
    "\n",
    "print(Number)"
   ]
  },
  {
   "cell_type": "code",
   "execution_count": 1,
   "id": "befcfe9d",
   "metadata": {},
   "outputs": [],
   "source": [
    "Integer_Number = 100\n",
    "# Rules for Variable Definition\n",
    "''' \n",
    "1. Special characters are not allowed at the prefix of variable.\n",
    "Example: 123Num : Not Allowed X\n",
    "2. The Variable Definition should not contain any special character or space\n",
    "Example: Primary Number : Not Allowed X\n",
    "3. _num = 100\n",
    "\n",
    "'''\n",
    "_num = 100"
   ]
  },
  {
   "cell_type": "code",
   "execution_count": 5,
   "id": "2f940554",
   "metadata": {},
   "outputs": [
    {
     "name": "stdout",
     "output_type": "stream",
     "text": [
      "Hii\n",
      "300\n"
     ]
    }
   ],
   "source": [
    "# print Function:\n",
    "\n",
    "print('Hii')\n",
    "print(100+200)"
   ]
  },
  {
   "cell_type": "code",
   "execution_count": 18,
   "id": "c744ea48",
   "metadata": {},
   "outputs": [
    {
     "name": "stdout",
     "output_type": "stream",
     "text": [
      "The Output of Two Mathmatical Number Operation  300.0\n",
      "The Output of Two Mathmatical Number Operation 300.0\n",
      "The Output of Two Mathmatical Number Operation 300.0\n",
      "The output of Two Numbers 100.0 and 200.0 is 300.0\n"
     ]
    }
   ],
   "source": [
    "# Example: Simple Calculator\n",
    "\n",
    "''' \n",
    "Logic:\n",
    "\n",
    "Step1: Ask user to enter the two values\n",
    "Step2: Perform Mathmatical Operation\n",
    "Step3: Print the Output\n",
    "'''\n",
    "num1 = float(input('Enter the First Value: '))   # Type casted to float\n",
    "num2 = float(input('Enter the Second Value: '))  # Type casted to float\n",
    "\n",
    "num3 = num1 + num2\n",
    "\n",
    "print('The Output of Two Mathmatical Number Operation ',num3)\n",
    "print(f'The Output of Two Mathmatical Number Operation {num3}')  # f-string method\n",
    "print(f'The Output of Two Mathmatical Number Operation {num3}'.format(num3))\n",
    "\n",
    "print(f'The output of Two Numbers {num1} and {num2} is {num3}')\n"
   ]
  },
  {
   "cell_type": "code",
   "execution_count": null,
   "id": "f87df80c",
   "metadata": {},
   "outputs": [],
   "source": [
    "# Operators in Python Programming\n",
    "''' \n",
    "1. Addition (+)\n",
    "2. Substraction (-)\n",
    "3. Multiplication (*)\n",
    "4. Division (/ or //)\n",
    "5. Modulo (%)\n",
    "'''"
   ]
  },
  {
   "cell_type": "code",
   "execution_count": 24,
   "id": "a772608e",
   "metadata": {},
   "outputs": [
    {
     "data": {
      "text/plain": [
       "(35, 20, 40, 20.0, 20, 0)"
      ]
     },
     "execution_count": 24,
     "metadata": {},
     "output_type": "execute_result"
    }
   ],
   "source": [
    "12 + 23, 40-20, 20*2,40/2,40//2,40%2"
   ]
  },
  {
   "cell_type": "code",
   "execution_count": 11,
   "id": "8416cea4",
   "metadata": {},
   "outputs": [
    {
     "name": "stdout",
     "output_type": "stream",
     "text": [
      "Hello Welcome to the World of Python Programming.\n"
     ]
    }
   ],
   "source": [
    "# Concept of Indexing and Slicing \n",
    "\n",
    "str = 'Hello Welcome to the World of Python Programming.'\n",
    "\n",
    "''' \n",
    "Note:\n",
    "string indexing : string[start:stop:step]\n",
    "'''\n",
    "#ello Welc\n",
    "print(str[::])"
   ]
  },
  {
   "cell_type": "code",
   "execution_count": 13,
   "id": "df6b2c33",
   "metadata": {},
   "outputs": [
    {
     "name": "stdout",
     "output_type": "stream",
     "text": [
      "I SAGetCut\n"
     ]
    }
   ],
   "source": [
    "str = 'INDIA IS A Great Country'\n",
    "print(str[3:-2:2])"
   ]
  },
  {
   "cell_type": "code",
   "execution_count": 16,
   "id": "93e916e1",
   "metadata": {},
   "outputs": [
    {
     "name": "stdout",
     "output_type": "stream",
     "text": [
      "I am True\n"
     ]
    }
   ],
   "source": [
    "# If Else statement\n",
    "\n",
    "if True:\n",
    "    print(\"I am True\")\n",
    "    \n",
    "if False:\n",
    "    print(\"I am False\")"
   ]
  },
  {
   "cell_type": "code",
   "execution_count": null,
   "metadata": {},
   "outputs": [
    {
     "name": "stdout",
     "output_type": "stream",
     "text": [
      "Not Satisfy the criteria\n"
     ]
    }
   ],
   "source": [
    "''' \n",
    "Logic:\n",
    "\n",
    "if <Condition>:\n",
    "   print(\"Output1\")\n",
    "else: \n",
    "   print(\"Output2\")\n",
    "\n",
    "'''\n",
    "\n",
    "num = 100 \n",
    "\n",
    "if num > 100:\n",
    "    print('The Number is Satisfy criteria')\n",
    "else:\n",
    "    print('Not Satisfy the criteria')"
   ]
  },
  {
   "cell_type": "code",
   "execution_count": null,
   "metadata": {},
   "outputs": [
    {
     "name": "stdout",
     "output_type": "stream",
     "text": [
      "The Number is 3\n"
     ]
    }
   ],
   "source": [
    "# Guessing the Number Game \n",
    "''' \n",
    "Logic:\n",
    "Step1: Enter the Number \n",
    "Step2: Write Logic Code to Guess the Correct Number\n",
    "Step3: Output  \n",
    "'''\n",
    "number = float(input('Enter the Number Between 1 to 3:' ))\n",
    "\n",
    "if number == 1:\n",
    "    print('The Number is 1')\n",
    "if number == 2:\n",
    "    print('The Number is 2')\n",
    "if number == 3:\n",
    "    print('The Number is 3')"
   ]
  },
  {
   "cell_type": "code",
   "execution_count": 23,
   "metadata": {},
   "outputs": [
    {
     "name": "stdout",
     "output_type": "stream",
     "text": [
      "The Number is Lower Value\n"
     ]
    }
   ],
   "source": [
    "number  = float(input())\n",
    "if number > 2: \n",
    "    print('The Enter number is Higher Value')\n",
    "if number < 2:\n",
    "    print('The Number is Lower Value')\n",
    "else:\n",
    "    print('The number is 2')"
   ]
  },
  {
   "cell_type": "code",
   "execution_count": 24,
   "id": "cd123f0a",
   "metadata": {},
   "outputs": [
    {
     "name": "stdout",
     "output_type": "stream",
     "text": [
      "Very Good\n"
     ]
    }
   ],
   "source": [
    "if True:\n",
    "    if True:\n",
    "        if True:\n",
    "            print('Very Good')"
   ]
  },
  {
   "cell_type": "code",
   "execution_count": null,
   "id": "613def2a",
   "metadata": {},
   "outputs": [
    {
     "name": "stdout",
     "output_type": "stream",
     "text": [
      "Not a Palindrom\n"
     ]
    }
   ],
   "source": [
    "# Example: To Check whether the given string is Palindrom or Not\n",
    "''' \n",
    "Step1: Ask user to enter the string\n",
    "step2: Reverse the string \n",
    "step3: Use if else logic to print the output\n",
    "'''\n",
    "text1 = input('Enter the string: ')   # Assignment Operator\n",
    "text2 = text1[::-1]\n",
    "\n",
    "if text1 == text2:     # This is Comparison Operator\n",
    "    print('The given string is Palindrom')\n",
    "else:\n",
    "    print('Not a Palindrom')"
   ]
  }
 ],
 "metadata": {
  "kernelspec": {
   "display_name": "itv",
   "language": "python",
   "name": "python3"
  },
  "language_info": {
   "codemirror_mode": {
    "name": "ipython",
    "version": 3
   },
   "file_extension": ".py",
   "mimetype": "text/x-python",
   "name": "python",
   "nbconvert_exporter": "python",
   "pygments_lexer": "ipython3",
   "version": "3.12.11"
  }
 },
 "nbformat": 4,
 "nbformat_minor": 5
}
