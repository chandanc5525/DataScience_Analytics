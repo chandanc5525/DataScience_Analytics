{
 "cells": [
  {
   "cell_type": "code",
   "execution_count": 4,
   "id": "64616391",
   "metadata": {},
   "outputs": [
    {
     "name": "stdout",
     "output_type": "stream",
     "text": [
      "<class 'int'>\n",
      "<class 'float'>\n",
      "<class 'complex'>\n"
     ]
    }
   ],
   "source": [
    "# Single Line Comment \n",
    "# Data Types in Python Programming\n",
    "''' \n",
    "1. Int \n",
    "2. Float\n",
    "3. Complex\n",
    "4. String\n",
    "5. Boolean\n",
    "6. list\n",
    "7. tuple\n",
    "8. set\n",
    "9. dict\n",
    "10. class : Custom Datatype\n",
    "'''\n",
    "\n",
    "number = 100\n",
    "number1 = 23.456\n",
    "number2 = 2 + 3j\n",
    "\n",
    "\n",
    "print(type(number))  # This will gives the Datatype of number\n",
    "print(type(number1))\n",
    "print(type(number2))"
   ]
  },
  {
   "cell_type": "code",
   "execution_count": 9,
   "id": "ac1e6166",
   "metadata": {},
   "outputs": [],
   "source": [
    "# Variable Definition\n",
    "\n",
    "x = 10  # Single Variable Assignment \n",
    "x,y = 1000,2000   \n",
    "x,y,z,_ = 1,2,3,4  # Multiple Variable Assignment\n",
    "_,a,b,c = 10,20,30,40"
   ]
  },
  {
   "cell_type": "code",
   "execution_count": null,
   "id": "01bd0701",
   "metadata": {},
   "outputs": [
    {
     "name": "stdout",
     "output_type": "stream",
     "text": [
      "100100\n"
     ]
    }
   ],
   "source": [
    "num = '100'  # String\n",
    "\n",
    "num1 = 2\n",
    "\n",
    "num2 = num * num1\n",
    "print(num2)"
   ]
  },
  {
   "cell_type": "code",
   "execution_count": 1,
   "id": "c6163414",
   "metadata": {},
   "outputs": [
    {
     "name": "stdout",
     "output_type": "stream",
     "text": [
      "20\n"
     ]
    }
   ],
   "source": [
    "number = 10\n",
    "Number = 20\n",
    "\n",
    "print(Number)"
   ]
  },
  {
   "cell_type": "code",
   "execution_count": 1,
   "id": "befcfe9d",
   "metadata": {},
   "outputs": [],
   "source": [
    "Integer_Number = 100\n",
    "# Rules for Variable Definition\n",
    "''' \n",
    "1. Special characters are not allowed at the prefix of variable.\n",
    "Example: 123Num : Not Allowed X\n",
    "2. The Variable Definition should not contain any special character or space\n",
    "Example: Primary Number : Not Allowed X\n",
    "3. _num = 100\n",
    "\n",
    "'''\n",
    "_num = 100"
   ]
  },
  {
   "cell_type": "code",
   "execution_count": 5,
   "id": "2f940554",
   "metadata": {},
   "outputs": [
    {
     "name": "stdout",
     "output_type": "stream",
     "text": [
      "Hii\n",
      "300\n"
     ]
    }
   ],
   "source": [
    "# print Function:\n",
    "\n",
    "print('Hii')\n",
    "print(100+200)"
   ]
  },
  {
   "cell_type": "code",
   "execution_count": 18,
   "id": "c744ea48",
   "metadata": {},
   "outputs": [
    {
     "name": "stdout",
     "output_type": "stream",
     "text": [
      "The Output of Two Mathmatical Number Operation  300.0\n",
      "The Output of Two Mathmatical Number Operation 300.0\n",
      "The Output of Two Mathmatical Number Operation 300.0\n",
      "The output of Two Numbers 100.0 and 200.0 is 300.0\n"
     ]
    }
   ],
   "source": [
    "# Example: Simple Calculator\n",
    "\n",
    "''' \n",
    "Logic:\n",
    "\n",
    "Step1: Ask user to enter the two values\n",
    "Step2: Perform Mathmatical Operation\n",
    "Step3: Print the Output\n",
    "'''\n",
    "num1 = float(input('Enter the First Value: '))   # Type casted to float\n",
    "num2 = float(input('Enter the Second Value: '))  # Type casted to float\n",
    "\n",
    "num3 = num1 + num2\n",
    "\n",
    "print('The Output of Two Mathmatical Number Operation ',num3)\n",
    "print(f'The Output of Two Mathmatical Number Operation {num3}')  # f-string method\n",
    "print(f'The Output of Two Mathmatical Number Operation {num3}'.format(num3))\n",
    "\n",
    "print(f'The output of Two Numbers {num1} and {num2} is {num3}')\n"
   ]
  },
  {
   "cell_type": "code",
   "execution_count": null,
   "id": "f87df80c",
   "metadata": {},
   "outputs": [],
   "source": [
    "# Operators in Python Programming\n",
    "''' \n",
    "1. Addition (+)\n",
    "2. Substraction (-)\n",
    "3. Multiplication (*)\n",
    "4. Division (/ or //)\n",
    "5. Modulo (%)\n",
    "'''"
   ]
  },
  {
   "cell_type": "code",
   "execution_count": 24,
   "id": "a772608e",
   "metadata": {},
   "outputs": [
    {
     "data": {
      "text/plain": [
       "(35, 20, 40, 20.0, 20, 0)"
      ]
     },
     "execution_count": 24,
     "metadata": {},
     "output_type": "execute_result"
    }
   ],
   "source": [
    "12 + 23, 40-20, 20*2,40/2,40//2,40%2"
   ]
  },
  {
   "cell_type": "code",
   "execution_count": 11,
   "id": "8416cea4",
   "metadata": {},
   "outputs": [
    {
     "name": "stdout",
     "output_type": "stream",
     "text": [
      "Hello Welcome to the World of Python Programming.\n"
     ]
    }
   ],
   "source": [
    "# Concept of Indexing and Slicing \n",
    "\n",
    "str = 'Hello Welcome to the World of Python Programming.'\n",
    "\n",
    "''' \n",
    "Note:\n",
    "string indexing : string[start:stop:step]\n",
    "'''\n",
    "#ello Welc\n",
    "print(str[::])"
   ]
  },
  {
   "cell_type": "code",
   "execution_count": 13,
   "id": "df6b2c33",
   "metadata": {},
   "outputs": [
    {
     "name": "stdout",
     "output_type": "stream",
     "text": [
      "I SAGetCut\n"
     ]
    }
   ],
   "source": [
    "str = 'INDIA IS A Great Country'\n",
    "print(str[3:-2:2])"
   ]
  },
  {
   "cell_type": "code",
   "execution_count": 16,
   "id": "93e916e1",
   "metadata": {},
   "outputs": [
    {
     "name": "stdout",
     "output_type": "stream",
     "text": [
      "I am True\n"
     ]
    }
   ],
   "source": [
    "# If Else statement\n",
    "\n",
    "if True:\n",
    "    print(\"I am True\")\n",
    "    \n",
    "if False:\n",
    "    print(\"I am False\")"
   ]
  },
  {
   "cell_type": "code",
   "execution_count": null,
   "metadata": {},
   "outputs": [
    {
     "name": "stdout",
     "output_type": "stream",
     "text": [
      "Not Satisfy the criteria\n"
     ]
    }
   ],
   "source": [
    "''' \n",
    "Logic:\n",
    "\n",
    "if <Condition>:\n",
    "   print(\"Output1\")\n",
    "else: \n",
    "   print(\"Output2\")\n",
    "\n",
    "'''\n",
    "\n",
    "num = 100 \n",
    "\n",
    "if num > 100:\n",
    "    print('The Number is Satisfy criteria')\n",
    "else:\n",
    "    print('Not Satisfy the criteria')"
   ]
  },
  {
   "cell_type": "code",
   "execution_count": null,
   "metadata": {},
   "outputs": [
    {
     "name": "stdout",
     "output_type": "stream",
     "text": [
      "The Number is 3\n"
     ]
    }
   ],
   "source": [
    "# Guessing the Number Game \n",
    "''' \n",
    "Logic:\n",
    "Step1: Enter the Number \n",
    "Step2: Write Logic Code to Guess the Correct Number\n",
    "Step3: Output  \n",
    "'''\n",
    "number = float(input('Enter the Number Between 1 to 3:' ))\n",
    "\n",
    "if number == 1:\n",
    "    print('The Number is 1')\n",
    "if number == 2:\n",
    "    print('The Number is 2')\n",
    "if number == 3:\n",
    "    print('The Number is 3')"
   ]
  },
  {
   "cell_type": "code",
   "execution_count": 23,
   "metadata": {},
   "outputs": [
    {
     "name": "stdout",
     "output_type": "stream",
     "text": [
      "The Number is Lower Value\n"
     ]
    }
   ],
   "source": [
    "number  = float(input())\n",
    "if number > 2: \n",
    "    print('The Enter number is Higher Value')\n",
    "if number < 2:\n",
    "    print('The Number is Lower Value')\n",
    "else:\n",
    "    print('The number is 2')"
   ]
  },
  {
   "cell_type": "code",
   "execution_count": 24,
   "id": "cd123f0a",
   "metadata": {},
   "outputs": [
    {
     "name": "stdout",
     "output_type": "stream",
     "text": [
      "Very Good\n"
     ]
    }
   ],
   "source": [
    "if True:\n",
    "    if True:\n",
    "        if True:\n",
    "            print('Very Good')"
   ]
  },
  {
   "cell_type": "code",
   "execution_count": null,
   "id": "613def2a",
   "metadata": {},
   "outputs": [
    {
     "name": "stdout",
     "output_type": "stream",
     "text": [
      "Not a Palindrom\n"
     ]
    }
   ],
   "source": [
    "# Example: To Check whether the given string is Palindrom or Not\n",
    "''' \n",
    "Step1: Ask user to enter the string\n",
    "step2: Reverse the string \n",
    "step3: Use if else logic to print the output\n",
    "'''\n",
    "text1 = input('Enter the string: ')   # Assignment Operator\n",
    "text2 = text1[::-1]\n",
    "\n",
    "if text1 == text2:     # This is Comparison Operator\n",
    "    print('The given string is Palindrom')\n",
    "else:\n",
    "    print('Not a Palindrom')"
   ]
  },
  {
   "cell_type": "code",
   "execution_count": 3,
   "id": "bdcd174b",
   "metadata": {},
   "outputs": [
    {
     "data": {
      "text/plain": [
       "5.0"
      ]
     },
     "execution_count": 3,
     "metadata": {},
     "output_type": "execute_result"
    }
   ],
   "source": [
    "8//5\n",
    "5**2\n",
    "25**0.5\n"
   ]
  },
  {
   "cell_type": "code",
   "execution_count": 5,
   "id": "8240624d",
   "metadata": {},
   "outputs": [
    {
     "name": "stdout",
     "output_type": "stream",
     "text": [
      "The Volume of Cylinder is 392.76250000000005 mm^3\n"
     ]
    }
   ],
   "source": [
    "# Example: Write a Program to Print Volume of Cylinder\n",
    "'''\n",
    "Volume = Area * Height\n",
    "Step1: Ask user to enter the Diameter of Cylinder\n",
    "step2: Ask user to enter the Height of cylinder\n",
    "step3: Volume = Area * height  \n",
    "step4: print the desired output\n",
    "'''\n",
    "PI = 3.1421\n",
    "Diameter = float(input(\"Enter the Diameter of Cylinder: \"))\n",
    "Height = float(input(\"Enter the Height of Cylinder: \"))\n",
    "\n",
    "Volume = (PI/4)*(Diameter**2)* Height\n",
    "\n",
    "print(f'The Volume of Cylinder is {Volume} mm^3')            "
   ]
  },
  {
   "cell_type": "code",
   "execution_count": null,
   "id": "9776ca24",
   "metadata": {},
   "outputs": [
    {
     "name": "stdout",
     "output_type": "stream",
     "text": [
      "Average\n"
     ]
    }
   ],
   "source": [
    "# Example:\n",
    "''' \n",
    "step1: Ask user to enter the Marks\n",
    "step2: Logic: \n",
    "       Marks > 90: Execellent\n",
    "       90<Marks>60 : Bright\n",
    "       Marks less than 60: Moderate \n",
    "step3: print the output\n",
    "'''\n",
    "Marks = float(input(\"Enter the Marks: \"))\n",
    "\n",
    "if Marks>=90:\n",
    "    print('Excellent')\n",
    "elif Marks < 90 and Marks > 60:\n",
    "    print(\"Bright\")\n",
    "else:\n",
    "    print(\"Average\")"
   ]
  },
  {
   "cell_type": "code",
   "execution_count": 11,
   "id": "ca2b672e",
   "metadata": {},
   "outputs": [
    {
     "name": "stdout",
     "output_type": "stream",
     "text": [
      "0\n",
      "1\n",
      "2\n",
      "3\n",
      "4\n",
      "5\n",
      "6\n",
      "7\n",
      "8\n",
      "9\n"
     ]
    }
   ],
   "source": [
    "# For loop\n",
    "# range(start,stop,step)\n",
    "for i in range(0,10):\n",
    "    print(i)"
   ]
  },
  {
   "cell_type": "code",
   "execution_count": 12,
   "id": "ce8247ac",
   "metadata": {},
   "outputs": [
    {
     "name": "stdout",
     "output_type": "stream",
     "text": [
      "0\n",
      "2\n",
      "4\n",
      "6\n",
      "8\n"
     ]
    }
   ],
   "source": [
    "for i in range(0,10,2):\n",
    "    print(i)"
   ]
  },
  {
   "cell_type": "code",
   "execution_count": 14,
   "id": "7254d632",
   "metadata": {},
   "outputs": [
    {
     "name": "stdout",
     "output_type": "stream",
     "text": [
      "0 1 2 3 4 5 6 7 8 9 "
     ]
    }
   ],
   "source": [
    "for i in range(0,10):\n",
    "    print(i,end = ' ')"
   ]
  },
  {
   "cell_type": "code",
   "execution_count": 15,
   "id": "cb31a864",
   "metadata": {},
   "outputs": [
    {
     "name": "stdout",
     "output_type": "stream",
     "text": [
      "\n",
      "*\n",
      "**\n",
      "***\n",
      "****\n",
      "*****\n",
      "******\n",
      "*******\n",
      "********\n",
      "*********\n"
     ]
    }
   ],
   "source": [
    "for i in range(10):\n",
    "    print('*'*i)"
   ]
  },
  {
   "cell_type": "code",
   "execution_count": 16,
   "id": "347eb953",
   "metadata": {},
   "outputs": [
    {
     "name": "stdout",
     "output_type": "stream",
     "text": [
      "0\n",
      "1\n",
      "2\n",
      "3\n",
      "4\n",
      "5\n",
      "6\n"
     ]
    }
   ],
   "source": [
    "for i in range(0,10):\n",
    "    print(i)\n",
    "    if i == 6:\n",
    "        break"
   ]
  },
  {
   "cell_type": "code",
   "execution_count": 17,
   "id": "22556ca9",
   "metadata": {},
   "outputs": [
    {
     "name": "stdout",
     "output_type": "stream",
     "text": [
      "0\n",
      "1\n",
      "2\n",
      "3\n",
      "4\n",
      "5\n",
      "6\n",
      "7\n",
      "8\n",
      "9\n"
     ]
    }
   ],
   "source": [
    "for i in range(0,10):\n",
    "    print(i)\n",
    "    if i == 6:\n",
    "        continue"
   ]
  },
  {
   "cell_type": "code",
   "execution_count": 18,
   "id": "f11707db",
   "metadata": {},
   "outputs": [
    {
     "name": "stdout",
     "output_type": "stream",
     "text": [
      "0\n",
      "1\n",
      "2\n",
      "3\n",
      "4\n",
      "5\n",
      "6\n",
      "7\n",
      "8\n",
      "9\n"
     ]
    }
   ],
   "source": [
    "for i in range(0,10):\n",
    "    print(i)\n",
    "    if i == 6:\n",
    "        pass"
   ]
  },
  {
   "cell_type": "code",
   "execution_count": 19,
   "id": "71b70c8e",
   "metadata": {},
   "outputs": [],
   "source": [
    "# Define function : test\n",
    "\n",
    "def test():   # Defining a function: test\n",
    "    pass\n",
    "\n",
    "test()        # Calling a function : test"
   ]
  },
  {
   "cell_type": "code",
   "execution_count": null,
   "id": "8b87c1d6",
   "metadata": {},
   "outputs": [
    {
     "name": "stdout",
     "output_type": "stream",
     "text": [
      "The given string is a Palindrom\n"
     ]
    }
   ],
   "source": [
    "# Example:\n",
    "# Palindrom function definition\n",
    "def Palindrom():\n",
    "    text1 = input('Enter the string: ')\n",
    "    text2 = text1[::-1]\n",
    "\n",
    "    if text1 == text2:\n",
    "        print(\"The given string is a Palindrom\")\n",
    "    else:\n",
    "        print(\"The given is not a Palindrom\")\n",
    "        \n",
    "Palindrom()  # Function Calling"
   ]
  },
  {
   "cell_type": "code",
   "execution_count": null,
   "id": "4dbfec68",
   "metadata": {},
   "outputs": [
    {
     "name": "stdout",
     "output_type": "stream",
     "text": [
      "The Answer is 300\n"
     ]
    }
   ],
   "source": [
    "# Example\n",
    "# Definining a function: Compute\n",
    "def Compute(num1,num2):\n",
    "    num3 = num1 + num2 \n",
    "    return num3\n",
    "\n",
    "ans = Compute(100,200)  # Function Calling\n",
    "\n",
    "print(f'The Answer is {ans}')"
   ]
  }
 ],
 "metadata": {
  "kernelspec": {
   "display_name": "itv",
   "language": "python",
   "name": "python3"
  },
  "language_info": {
   "codemirror_mode": {
    "name": "ipython",
    "version": 3
   },
   "file_extension": ".py",
   "mimetype": "text/x-python",
   "name": "python",
   "nbconvert_exporter": "python",
   "pygments_lexer": "ipython3",
   "version": "3.12.11"
  }
 },
 "nbformat": 4,
 "nbformat_minor": 5
}
