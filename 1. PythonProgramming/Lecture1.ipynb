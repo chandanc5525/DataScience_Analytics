{
 "cells": [
  {
   "cell_type": "code",
   "execution_count": 4,
   "id": "64616391",
   "metadata": {},
   "outputs": [
    {
     "name": "stdout",
     "output_type": "stream",
     "text": [
      "<class 'int'>\n",
      "<class 'float'>\n",
      "<class 'complex'>\n"
     ]
    }
   ],
   "source": [
    "# Single Line Comment \n",
    "# Data Types in Python Programming\n",
    "''' \n",
    "1. Int \n",
    "2. Float\n",
    "3. Complex\n",
    "4. String\n",
    "5. Boolean\n",
    "6. list\n",
    "7. tuple\n",
    "8. set\n",
    "9. dict\n",
    "10. class : Custom Datatype\n",
    "'''\n",
    "\n",
    "number = 100\n",
    "number1 = 23.456\n",
    "number2 = 2 + 3j\n",
    "\n",
    "\n",
    "print(type(number))  # This will gives the Datatype of number\n",
    "print(type(number1))\n",
    "print(type(number2))"
   ]
  },
  {
   "cell_type": "code",
   "execution_count": 9,
   "id": "ac1e6166",
   "metadata": {},
   "outputs": [],
   "source": [
    "# Variable Definition\n",
    "\n",
    "x = 10  # Single Variable Assignment \n",
    "x,y = 1000,2000   \n",
    "x,y,z,_ = 1,2,3,4  # Multiple Variable Assignment\n",
    "_,a,b,c = 10,20,30,40"
   ]
  },
  {
   "cell_type": "code",
   "execution_count": null,
   "id": "01bd0701",
   "metadata": {},
   "outputs": [
    {
     "name": "stdout",
     "output_type": "stream",
     "text": [
      "100100\n"
     ]
    }
   ],
   "source": [
    "num = '100'  # String\n",
    "\n",
    "num1 = 2\n",
    "\n",
    "num2 = num * num1\n",
    "print(num2)"
   ]
  },
  {
   "cell_type": "code",
   "execution_count": 1,
   "id": "c6163414",
   "metadata": {},
   "outputs": [
    {
     "name": "stdout",
     "output_type": "stream",
     "text": [
      "20\n"
     ]
    }
   ],
   "source": [
    "number = 10\n",
    "Number = 20\n",
    "\n",
    "print(Number)"
   ]
  },
  {
   "cell_type": "code",
   "execution_count": null,
   "id": "befcfe9d",
   "metadata": {},
   "outputs": [],
   "source": [
    "Integer_Number = 100\n",
    "# Rules for Variable Definition\n",
    "''' \n",
    "1. Special characters are not allowed at the prefix of variable.\n",
    "Example: 123Num : Not Allowed X\n",
    "2. The Variable Definition should not contain any special character or space\n",
    "Example: Primary Number : Not Allowed X\n",
    "\n",
    "'''"
   ]
  },
  {
   "cell_type": "code",
   "execution_count": 5,
   "id": "2f940554",
   "metadata": {},
   "outputs": [
    {
     "name": "stdout",
     "output_type": "stream",
     "text": [
      "Hii\n",
      "300\n"
     ]
    }
   ],
   "source": [
    "# print Function:\n",
    "\n",
    "print('Hii')\n",
    "print(100+200)"
   ]
  },
  {
   "cell_type": "code",
   "execution_count": 18,
   "id": "c744ea48",
   "metadata": {},
   "outputs": [
    {
     "name": "stdout",
     "output_type": "stream",
     "text": [
      "The Output of Two Mathmatical Number Operation  300.0\n",
      "The Output of Two Mathmatical Number Operation 300.0\n",
      "The Output of Two Mathmatical Number Operation 300.0\n",
      "The output of Two Numbers 100.0 and 200.0 is 300.0\n"
     ]
    }
   ],
   "source": [
    "# Example: Simple Calculator\n",
    "\n",
    "''' \n",
    "Logic:\n",
    "\n",
    "Step1: Ask user to enter the two values\n",
    "Step2: Perform Mathmatical Operation\n",
    "Step3: Print the Output\n",
    "'''\n",
    "num1 = float(input('Enter the First Value: '))   # Type casted to float\n",
    "num2 = float(input('Enter the Second Value: '))  # Type casted to float\n",
    "\n",
    "num3 = num1 + num2\n",
    "\n",
    "print('The Output of Two Mathmatical Number Operation ',num3)\n",
    "print(f'The Output of Two Mathmatical Number Operation {num3}')  # f-string method\n",
    "print(f'The Output of Two Mathmatical Number Operation {num3}'.format(num3))\n",
    "\n",
    "print(f'The output of Two Numbers {num1} and {num2} is {num3}')\n"
   ]
  },
  {
   "cell_type": "code",
   "execution_count": null,
   "id": "f87df80c",
   "metadata": {},
   "outputs": [],
   "source": [
    "# Operators in Python Programming\n",
    "''' \n",
    "1. Addition (+)\n",
    "2. Substraction (-)\n",
    "3. Multiplication (*)\n",
    "4. Division (/ or //)\n",
    "5. Modulo (%)\n",
    "'''"
   ]
  },
  {
   "cell_type": "code",
   "execution_count": 24,
   "id": "a772608e",
   "metadata": {},
   "outputs": [
    {
     "data": {
      "text/plain": [
       "(35, 20, 40, 20.0, 20, 0)"
      ]
     },
     "execution_count": 24,
     "metadata": {},
     "output_type": "execute_result"
    }
   ],
   "source": [
    "12 + 23, 40-20, 20*2,40/2,40//2,40%2"
   ]
  },
  {
   "cell_type": "code",
   "execution_count": 43,
   "id": "8416cea4",
   "metadata": {},
   "outputs": [
    {
     "name": "stdout",
     "output_type": "stream",
     "text": [
      "ello Welcome to the\n"
     ]
    }
   ],
   "source": [
    "# Concept of Indexing and Slicing \n",
    "\n",
    "str = 'Hello Welcome to the World of Python Programming.'\n",
    "\n",
    "''' \n",
    "Note:\n",
    "string indexing : string[start:stop:step]\n",
    "'''\n",
    "#ello Welc\n",
    "print(str[1:20:1])"
   ]
  },
  {
   "cell_type": "code",
   "execution_count": 41,
   "id": "df6b2c33",
   "metadata": {},
   "outputs": [
    {
     "name": "stdout",
     "output_type": "stream",
     "text": [
      "tagahtaT\n"
     ]
    }
   ],
   "source": [
    "str = 'Tathagat'\n",
    "print(str[::-1])"
   ]
  }
 ],
 "metadata": {
  "kernelspec": {
   "display_name": "itv",
   "language": "python",
   "name": "python3"
  },
  "language_info": {
   "codemirror_mode": {
    "name": "ipython",
    "version": 3
   },
   "file_extension": ".py",
   "mimetype": "text/x-python",
   "name": "python",
   "nbconvert_exporter": "python",
   "pygments_lexer": "ipython3",
   "version": "3.12.11"
  }
 },
 "nbformat": 4,
 "nbformat_minor": 5
}
